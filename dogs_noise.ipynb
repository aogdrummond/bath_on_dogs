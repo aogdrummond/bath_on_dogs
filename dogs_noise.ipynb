{
  "nbformat": 4,
  "nbformat_minor": 0,
  "metadata": {
    "colab": {
      "name": "dogs_noise.ipynb",
      "provenance": [],
      "collapsed_sections": []
    },
    "kernelspec": {
      "name": "python3",
      "display_name": "Python 3"
    },
    "language_info": {
      "name": "python"
    }
  },
  "cells": [
    {
      "cell_type": "markdown",
      "source": [
        "##Import required libraries"
      ],
      "metadata": {
        "id": "LDhCW2za7oQv"
      }
    },
    {
      "cell_type": "code",
      "execution_count": 1,
      "metadata": {
        "id": "1TNycT_-49fn"
      },
      "outputs": [],
      "source": [
        "import numpy as np\n",
        "import matplotlib.pyplot as plt\n",
        "import math\n"
      ]
    },
    {
      "cell_type": "markdown",
      "source": [
        "## Define required functions"
      ],
      "metadata": {
        "id": "WvdA1OfA7u2k"
      }
    },
    {
      "cell_type": "code",
      "source": [
        "def db_to_pa(SPL:float):\n",
        "\n",
        "  return (20*10**(-6))*(10**(SPL/20))\n",
        "\n",
        "def pa_to_db(Pressure:float):\n",
        "\n",
        "  return 20*math.log10(Pressure/(20*10**(-6)))\n",
        "\n",
        "def global_SPL(SPL_list:list):\n",
        "\n",
        "  global_pressure = 0\n",
        "  for band_SPL in SPL_list:\n",
        "    global_pressure += db_to_pa(band_SPL)\n",
        "  \n",
        "  global_SPL = pa_to_db(global_pressure)\n",
        "  \n",
        "  return global_SPL\n"
      ],
      "metadata": {
        "id": "k4RikYT8_aQi"
      },
      "execution_count": 2,
      "outputs": []
    },
    {
      "cell_type": "markdown",
      "source": [
        "## Definition of value "
      ],
      "metadata": {
        "id": "uQRMG09D8BWG"
      }
    },
    {
      "cell_type": "code",
      "source": [
        "human_threshold = np.array([50, 30, 17, 6, 0, -3, -5, 8])     #Defined according human's threshold of audibility\n",
        "\n",
        "dog_threshold = np.array([50 ,28, 18, 2, -10, -20, -25, -10]) #Defined according to Lipman and Grassi (1942)\n",
        "\n",
        "A_weighting = np.array([-26,-16,-9,-3,0,1,1,-1])\n",
        "\n",
        "dryer_measured_SPL = np.array([60,60,60,60,60,60,50,47])*1.37 #Defined according to Akhmetov, Gupta and Ahuja,"
      ],
      "metadata": {
        "id": "d33YVYts8g4a"
      },
      "execution_count": 3,
      "outputs": []
    },
    {
      "cell_type": "markdown",
      "source": [
        "## Calculation of how noise is perceived"
      ],
      "metadata": {
        "id": "LYTyTGJX9Tbu"
      }
    },
    {
      "cell_type": "code",
      "source": [
        "dog_weighting = human_threshold - dog_threshold\n",
        "\n",
        "human_perceived = dryer_measured_SPL + A_weighting\n",
        "\n",
        "dog_perceived = dryer_measured_SPL + A_weighting + dog_weighting\n"
      ],
      "metadata": {
        "id": "4AnNoAJIARIs"
      },
      "execution_count": 4,
      "outputs": []
    },
    {
      "cell_type": "markdown",
      "source": [
        "#Plot"
      ],
      "metadata": {
        "id": "M2QufA7D9ZSB"
      }
    },
    {
      "cell_type": "code",
      "source": [
        "bands = [62,125,250,500,1000,2000,4000,8000]\n",
        "\n",
        "fig, ax = plt.subplots()\n",
        "\n",
        "ax.plot(bands,human_perceived,\"k-\",bands,dog_perceived,\"b-\",linewidth=3)\n",
        "\n",
        "ax.set_xscale(\"log\")\n",
        "ax.axhline(global_SPL(human_perceived),color=\"k\",linestyle=\"--\")\n",
        "ax.axhline(global_SPL(dog_perceived),color=\"b\",linestyle=\"--\")\n",
        "ax.text(x=150,y=int(global_SPL(human_perceived))-2,s=\"HUMAN GLOBAL\")\n",
        "ax.text(x=150,y=int(global_SPL(dog_perceived))-2,s=\"DOG'S GLOBAL\",color=\"b\")\n",
        "xlabels = \"63 125 250 500 1k 2k 4k 8k\".split(\" \")\n",
        "yticks  = [60,70,80,90,global_SPL(human_perceived),100,global_SPL(dog_perceived)]\n",
        "ylabels = [\"60\",\"70\",\"80\",\"90\",str(int(global_SPL(human_perceived))),\"100\",str(int(global_SPL(dog_perceived)))]\n",
        "ax.set_yticks(ticks=yticks)\n",
        "ax.set_yticklabels(labels=ylabels)\n",
        "ax.set_xticks(ticks=bands)\n",
        "ax.set_xticklabels(labels=xlabels)\n",
        "ax.legend((\"Perceived by human \",\"Perceived by dogs\"))\n",
        "ax.set_title(\"HAIRDRYER NOISE PERCEIVED\")\n",
        "ax.set_ylabel(\"[dB]\")\n",
        "ax.set_xlabel(\"[Hz]\")\n",
        "ax.grid()\n",
        "fig.savefig"
      ],
      "metadata": {
        "colab": {
          "base_uri": "https://localhost:8080/",
          "height": 312
        },
        "id": "xJU47Lfi92Kk",
        "outputId": "7a393341-4301-4884-d8ec-91cecdce7191"
      },
      "execution_count": 5,
      "outputs": [
        {
          "output_type": "execute_result",
          "data": {
            "text/plain": [
              "<bound method Figure.savefig of <Figure size 432x288 with 1 Axes>>"
            ]
          },
          "metadata": {},
          "execution_count": 5
        },
        {
          "output_type": "display_data",
          "data": {
            "text/plain": [
              "<Figure size 432x288 with 1 Axes>"
            ],
            "image/png": "[encoded data removed]"
          },
          "metadata": {
            "needs_background": "light"
          }
        }
      ]
    }
  ]
}